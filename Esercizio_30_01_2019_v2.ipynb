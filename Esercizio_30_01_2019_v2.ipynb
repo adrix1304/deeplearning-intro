{
 "cells": [
  {
   "cell_type": "markdown",
   "metadata": {},
   "source": [
    "## Deeplearning network \n",
    "### the present notebook want to classify the \"x\" and \"y\" data coming from two different linear equations\n",
    "### Equation 1: 3*x  = y \n",
    "### Equation 2: 5*x  = y \n",
    "\n",
    "implemetation of the following Steps:\n",
    "\n",
    "1. to create Excell dataset with 500 tuple (x,y,z) \n",
    "    x random in a range [-100,100] \n",
    "    y result of Equation 1 or Equation 2 randomly \n",
    "    z integer 0 if y calculated from Equation 1 and 1 if from Equation 2 \n",
    "   than save it  as \"datset.xlxs\"\n",
    "   save all dataset in the Sheet \"dataset_simple\"\n",
    " \n",
    "\n",
    "2. open .xlxs dataset and save as .CSV\n",
    "\n",
    "3. divide the dataset in \n",
    "                          450 data as \"train_data\" and \"train_solution\" ,\n",
    "                          25 data as \"test_data\" and \"test_solution\" , \n",
    "                          25 data as \"validate_data\" and \"validate_solution\"\n"
   ]
  },
  {
   "cell_type": "code",
   "execution_count": 13,
   "metadata": {},
   "outputs": [
    {
     "data": {
      "text/plain": [
       "'C:\\\\Users\\\\Adrix\\\\Desktop\\\\deeplearning-intro-modification'"
      ]
     },
     "execution_count": 13,
     "metadata": {},
     "output_type": "execute_result"
    }
   ],
   "source": [
    "pwd # restituisce la directory di lavoro"
   ]
  },
  {
   "cell_type": "markdown",
   "metadata": {},
   "source": [
    "# Utilities Functions\n",
    "\n",
    "###  write \"adrix()\" for the function list "
   ]
  },
  {
   "cell_type": "code",
   "execution_count": 73,
   "metadata": {},
   "outputs": [],
   "source": [
    "def adrix():\n",
    "    print ('1. dataframe_from_XLSX_2_CSV(info,path_xlsx,xlsx_name,sheet_name,path_csv,csv_name)')\n",
    "    return None"
   ]
  },
  {
   "cell_type": "code",
   "execution_count": 74,
   "metadata": {},
   "outputs": [
    {
     "name": "stdout",
     "output_type": "stream",
     "text": [
      "1. dataframe_from_XLSX_2_CSV(info,path_xlsx,xlsx_name,sheet_name,path_csv,csv_name)\n"
     ]
    }
   ],
   "source": [
    "adrix()   # la funzione \"adrix()\" contiene la lista delle funzioni implementate \n",
    "          # inoltre richiamando una qualsiasi funzione con \"True\" in corrispondenza del parametro \"info\" ottengo suggerimenti su come \n",
    "          # utilizzare la funzione "
   ]
  },
  {
   "cell_type": "code",
   "execution_count": 62,
   "metadata": {},
   "outputs": [],
   "source": [
    "def dataframe_from_XLSX_2_CSV(info,path_xlsx,xlsx_name,sheet_name,path_csv,csv_name):\n",
    "    if info==True:\n",
    "        print (\"FUNCTION: dataframe_from_XLSX_2_CSV(info,path_xlsx,xlsx_name,sheet_name,path_csv,csv_name)\")\n",
    "        print (\"          location of xlsx file, be sure to add the path to xlsx file as following:\",\"'C:\\\\Users\\Adrix\\Desktop'\")\n",
    "        print (\"          destination to csv file, be sure to add the path to csv file as following:\",\"'C:\\\\Users\\Adrix\\Desktop'\")\n",
    "    else:\n",
    "        os.chdir(path_xlsx)  # combio la mia working directory dove è localizzato il file .xlsx\n",
    "        data_xls = pd.read_excel(xlsx_name, sheet_name, index_col=None) # pandas legge il file excel\n",
    "        os.chdir(path_csv) # combio la mia working directory dove voglio salvare il file .csv\n",
    "        data_xls.to_csv(csv_name, encoding='utf-8',index=False)  # salva il file in .csv\n",
    "return None"
   ]
  },
  {
   "cell_type": "code",
   "execution_count": 82,
   "metadata": {},
   "outputs": [],
   "source": [
    "def dataframe_CSV_read(info,path_csv,csv_name,view_points):\n",
    "    if info==True:\n",
    "        print (\"FUNCTION: dataframe_from_XLSX_2_CSV(info,path_xlsx,xlsx_name,sheet_name,path_csv,csv_name)\")\n",
    "        print (\"          location of xlsx file, be sure to add the path to xlsx file as following:\",\"'C:\\\\Users\\Adrix\\Desktop'\")\n",
    "        print (\"          destination to csv file, be sure to add the path to csv file as following:\",\"'C:\\\\Users\\Adrix\\Desktop'\")\n",
    "    else:\n",
    "        os.chdir(path_csv) # combio la mia working directory dove è localizzato il file .csv\n",
    "        # Reading the csv file into a pandas DataFrame\n",
    "        data_glob = pd.read_csv(csv_name)  # creato il DataFrame \"data_glob\"\n",
    "\n",
    "        # Printing out the first 10 rows of our data\n",
    "        if view_points<data_glob.size:\n",
    "            print(data_glob[:view_points])\n",
    "        else:\n",
    "            print\n",
    "\n",
    "return None"
   ]
  },
  {
   "cell_type": "code",
   "execution_count": 86,
   "metadata": {},
   "outputs": [],
   "source": [
    "dataframe_CSV_read(None,'C:\\\\Users\\Adrix\\Desktop','dataset.csv',1600)"
   ]
  },
  {
   "cell_type": "markdown",
   "metadata": {},
   "source": [
    "# Neural Network functions\n",
    "\n",
    "###  write \"adrix_net()\" for the function list "
   ]
  },
  {
   "cell_type": "code",
   "execution_count": 2,
   "metadata": {},
   "outputs": [
    {
     "data": {
      "text/html": [
       "<div>\n",
       "<style scoped>\n",
       "    .dataframe tbody tr th:only-of-type {\n",
       "        vertical-align: middle;\n",
       "    }\n",
       "\n",
       "    .dataframe tbody tr th {\n",
       "        vertical-align: top;\n",
       "    }\n",
       "\n",
       "    .dataframe thead th {\n",
       "        text-align: right;\n",
       "    }\n",
       "</style>\n",
       "<table border=\"1\" class=\"dataframe\">\n",
       "  <thead>\n",
       "    <tr style=\"text-align: right;\">\n",
       "      <th></th>\n",
       "      <th>x1</th>\n",
       "      <th>y</th>\n",
       "      <th>z</th>\n",
       "    </tr>\n",
       "  </thead>\n",
       "  <tbody>\n",
       "    <tr>\n",
       "      <th>0</th>\n",
       "      <td>57</td>\n",
       "      <td>285</td>\n",
       "      <td>1</td>\n",
       "    </tr>\n",
       "    <tr>\n",
       "      <th>1</th>\n",
       "      <td>6</td>\n",
       "      <td>30</td>\n",
       "      <td>1</td>\n",
       "    </tr>\n",
       "    <tr>\n",
       "      <th>2</th>\n",
       "      <td>15</td>\n",
       "      <td>75</td>\n",
       "      <td>1</td>\n",
       "    </tr>\n",
       "    <tr>\n",
       "      <th>3</th>\n",
       "      <td>75</td>\n",
       "      <td>375</td>\n",
       "      <td>1</td>\n",
       "    </tr>\n",
       "    <tr>\n",
       "      <th>4</th>\n",
       "      <td>76</td>\n",
       "      <td>380</td>\n",
       "      <td>1</td>\n",
       "    </tr>\n",
       "    <tr>\n",
       "      <th>5</th>\n",
       "      <td>7</td>\n",
       "      <td>21</td>\n",
       "      <td>0</td>\n",
       "    </tr>\n",
       "    <tr>\n",
       "      <th>6</th>\n",
       "      <td>83</td>\n",
       "      <td>415</td>\n",
       "      <td>1</td>\n",
       "    </tr>\n",
       "    <tr>\n",
       "      <th>7</th>\n",
       "      <td>5</td>\n",
       "      <td>25</td>\n",
       "      <td>1</td>\n",
       "    </tr>\n",
       "    <tr>\n",
       "      <th>8</th>\n",
       "      <td>8</td>\n",
       "      <td>40</td>\n",
       "      <td>1</td>\n",
       "    </tr>\n",
       "    <tr>\n",
       "      <th>9</th>\n",
       "      <td>54</td>\n",
       "      <td>270</td>\n",
       "      <td>1</td>\n",
       "    </tr>\n",
       "  </tbody>\n",
       "</table>\n",
       "</div>"
      ],
      "text/plain": [
       "   x1    y  z\n",
       "0  57  285  1\n",
       "1   6   30  1\n",
       "2  15   75  1\n",
       "3  75  375  1\n",
       "4  76  380  1\n",
       "5   7   21  0\n",
       "6  83  415  1\n",
       "7   5   25  1\n",
       "8   8   40  1\n",
       "9  54  270  1"
      ]
     },
     "execution_count": 2,
     "metadata": {},
     "output_type": "execute_result"
    }
   ],
   "source": [
    "# visualizziamo i primi 20 punti\n",
    "\n",
    "# Reading the csv file into a pandas DataFrame\n",
    "data_glob = pd.read_csv('dataset.csv')  # creato il DataFrame \"data_glob\"\n",
    "\n",
    "# Printing out the first 10 rows of our data\n",
    "data_glob[:10]\n"
   ]
  },
  {
   "cell_type": "code",
   "execution_count": 3,
   "metadata": {},
   "outputs": [
    {
     "name": "stdout",
     "output_type": "stream",
     "text": [
      "[ 51.444 207.464] [ 28.94405605 130.4284012 ]\n"
     ]
    }
   ],
   "source": [
    "mean_=np.array([])\n",
    "std_=np.array([])\n",
    "for s in ['x1','y']:\n",
    "    mean,std=np.array([data_glob[s].mean()]),np.array([data_glob[s].std()])\n",
    "    data_glob.loc[:,s]=(data_glob[s]-mean)/std\n",
    "    mean_=np.append([mean_],[mean])\n",
    "    std_=np.append([std_],[std])\n",
    "print (mean_,std_)"
   ]
  },
  {
   "cell_type": "code",
   "execution_count": 4,
   "metadata": {},
   "outputs": [
    {
     "data": {
      "text/html": [
       "<div>\n",
       "<style scoped>\n",
       "    .dataframe tbody tr th:only-of-type {\n",
       "        vertical-align: middle;\n",
       "    }\n",
       "\n",
       "    .dataframe tbody tr th {\n",
       "        vertical-align: top;\n",
       "    }\n",
       "\n",
       "    .dataframe thead th {\n",
       "        text-align: right;\n",
       "    }\n",
       "</style>\n",
       "<table border=\"1\" class=\"dataframe\">\n",
       "  <thead>\n",
       "    <tr style=\"text-align: right;\">\n",
       "      <th></th>\n",
       "      <th>x1</th>\n",
       "      <th>y</th>\n",
       "      <th>z</th>\n",
       "    </tr>\n",
       "  </thead>\n",
       "  <tbody>\n",
       "    <tr>\n",
       "      <th>0</th>\n",
       "      <td>0.191957</td>\n",
       "      <td>0.594472</td>\n",
       "      <td>1</td>\n",
       "    </tr>\n",
       "    <tr>\n",
       "      <th>1</th>\n",
       "      <td>-1.570063</td>\n",
       "      <td>-1.360624</td>\n",
       "      <td>1</td>\n",
       "    </tr>\n",
       "    <tr>\n",
       "      <th>2</th>\n",
       "      <td>-1.259119</td>\n",
       "      <td>-1.015607</td>\n",
       "      <td>1</td>\n",
       "    </tr>\n",
       "    <tr>\n",
       "      <th>3</th>\n",
       "      <td>0.813846</td>\n",
       "      <td>1.284506</td>\n",
       "      <td>1</td>\n",
       "    </tr>\n",
       "    <tr>\n",
       "      <th>4</th>\n",
       "      <td>0.848395</td>\n",
       "      <td>1.322841</td>\n",
       "      <td>1</td>\n",
       "    </tr>\n",
       "    <tr>\n",
       "      <th>5</th>\n",
       "      <td>-1.535514</td>\n",
       "      <td>-1.429627</td>\n",
       "      <td>0</td>\n",
       "    </tr>\n",
       "    <tr>\n",
       "      <th>6</th>\n",
       "      <td>1.090241</td>\n",
       "      <td>1.591187</td>\n",
       "      <td>1</td>\n",
       "    </tr>\n",
       "    <tr>\n",
       "      <th>7</th>\n",
       "      <td>-1.604613</td>\n",
       "      <td>-1.398959</td>\n",
       "      <td>1</td>\n",
       "    </tr>\n",
       "    <tr>\n",
       "      <th>8</th>\n",
       "      <td>-1.500964</td>\n",
       "      <td>-1.283953</td>\n",
       "      <td>1</td>\n",
       "    </tr>\n",
       "    <tr>\n",
       "      <th>9</th>\n",
       "      <td>0.088308</td>\n",
       "      <td>0.479466</td>\n",
       "      <td>1</td>\n",
       "    </tr>\n",
       "  </tbody>\n",
       "</table>\n",
       "</div>"
      ],
      "text/plain": [
       "         x1         y  z\n",
       "0  0.191957  0.594472  1\n",
       "1 -1.570063 -1.360624  1\n",
       "2 -1.259119 -1.015607  1\n",
       "3  0.813846  1.284506  1\n",
       "4  0.848395  1.322841  1\n",
       "5 -1.535514 -1.429627  0\n",
       "6  1.090241  1.591187  1\n",
       "7 -1.604613 -1.398959  1\n",
       "8 -1.500964 -1.283953  1\n",
       "9  0.088308  0.479466  1"
      ]
     },
     "execution_count": 4,
     "metadata": {},
     "output_type": "execute_result"
    }
   ],
   "source": [
    "# Printing out the first 10 rows of our data\n",
    "data_glob[:10]"
   ]
  },
  {
   "cell_type": "code",
   "execution_count": null,
   "metadata": {},
   "outputs": [],
   "source": []
  }
 ],
 "metadata": {
  "kernelspec": {
   "display_name": "Python 3",
   "language": "python",
   "name": "python3"
  },
  "language_info": {
   "codemirror_mode": {
    "name": "ipython",
    "version": 3
   },
   "file_extension": ".py",
   "mimetype": "text/x-python",
   "name": "python",
   "nbconvert_exporter": "python",
   "pygments_lexer": "ipython3",
   "version": "3.7.1"
  }
 },
 "nbformat": 4,
 "nbformat_minor": 2
}
